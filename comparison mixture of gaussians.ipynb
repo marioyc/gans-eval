{
 "cells": [
  {
   "cell_type": "code",
   "execution_count": null,
   "metadata": {
    "collapsed": false
   },
   "outputs": [],
   "source": [
    "import tensorflow as tf\n",
    "\n",
    "from gan import GAN\n",
    "from wgan import WGAN\n",
    "from cramer_gan import CramerGAN"
   ]
  },
  {
   "cell_type": "code",
   "execution_count": null,
   "metadata": {
    "collapsed": true
   },
   "outputs": [],
   "source": [
    "data_params = {\n",
    "    'n_mixture': 8,\n",
    "    'std': 0.05,\n",
    "    'radius': 1,\n",
    "}\n",
    "generator_params = {\n",
    "    'n_layers': 4,\n",
    "    'n_hidden': 256,\n",
    "    'activation_fn': tf.nn.relu,\n",
    "}\n",
    "discriminator_params = {\n",
    "    'n_layers': 4,\n",
    "    'n_hidden': 256,\n",
    "    'activation_fn': tf.nn.relu,\n",
    "}\n",
    "\n",
    "iterations = 50000\n",
    "batch_size = 128\n",
    "save_step = 2500"
   ]
  },
  {
   "cell_type": "markdown",
   "metadata": {},
   "source": [
    "# Alternating optimization"
   ]
  },
  {
   "cell_type": "markdown",
   "metadata": {},
   "source": [
    "# GAN"
   ]
  },
  {
   "cell_type": "code",
   "execution_count": null,
   "metadata": {
    "collapsed": false
   },
   "outputs": [],
   "source": [
    "params = {\n",
    "    'z_dim': 64,\n",
    "    'data': data_params,\n",
    "    'generator': generator_params,\n",
    "    'discriminator': discriminator_params,\n",
    "    'modified_objective': False,\n",
    "    'optimization': {\n",
    "        'algorithm': 'alternating',\n",
    "        'discriminator_steps': 5,\n",
    "    },\n",
    "}\n",
    "\n",
    "tf.reset_default_graph()\n",
    "gan = GAN(params)\n",
    "gan.train(iterations=iterations, batch_size=batch_size, save_step=save_step, dirname='alternating-gan')"
   ]
  },
  {
   "cell_type": "code",
   "execution_count": null,
   "metadata": {
    "collapsed": false
   },
   "outputs": [],
   "source": [
    "params = {\n",
    "    'z_dim': 64,\n",
    "    'data': data_params,\n",
    "    'generator': generator_params,\n",
    "    'discriminator': discriminator_params,\n",
    "    'modified_objective': True,\n",
    "    'optimization': {\n",
    "        'algorithm': 'alternating',\n",
    "        'discriminator_steps': 5,\n",
    "    },\n",
    "}\n",
    "\n",
    "tf.reset_default_graph()\n",
    "gan = GAN(params)\n",
    "gan.train(iterations=iterations, batch_size=batch_size, save_step=save_step, dirname='alternating-gan-2')"
   ]
  },
  {
   "cell_type": "markdown",
   "metadata": {},
   "source": [
    "# WGAN"
   ]
  },
  {
   "cell_type": "code",
   "execution_count": null,
   "metadata": {
    "collapsed": false
   },
   "outputs": [],
   "source": [
    "params = {\n",
    "    'z_dim': 64,\n",
    "    'data': data_params,\n",
    "    'generator': generator_params,\n",
    "    'discriminator': discriminator_params,\n",
    "    'gradient_penalty': False,\n",
    "    'optimization': {\n",
    "        'algorithm': 'alternating',\n",
    "        'discriminator_steps': 5,\n",
    "    },\n",
    "}\n",
    "\n",
    "tf.reset_default_graph()\n",
    "gan = WGAN(params)\n",
    "gan.train(iterations=iterations, batch_size=batch_size, save_step=save_step, dirname='alternating-wgan')"
   ]
  },
  {
   "cell_type": "markdown",
   "metadata": {},
   "source": [
    "# WGAN-GP"
   ]
  },
  {
   "cell_type": "code",
   "execution_count": null,
   "metadata": {
    "collapsed": false
   },
   "outputs": [],
   "source": [
    "params = {\n",
    "    'z_dim': 64,\n",
    "    'data': data_params,\n",
    "    'generator': generator_params,\n",
    "    'discriminator': discriminator_params,\n",
    "    'gradient_penalty': True,\n",
    "    'lambda': 0.1,\n",
    "    'optimization': {\n",
    "        'algorithm': 'alternating',\n",
    "        'discriminator_steps': 5,\n",
    "    },\n",
    "}\n",
    "\n",
    "tf.reset_default_graph()\n",
    "gan = WGAN(params)\n",
    "gan.train(iterations=iterations, batch_size=batch_size, save_step=save_step, dirname='alternating-wgan-gp')"
   ]
  },
  {
   "cell_type": "markdown",
   "metadata": {},
   "source": [
    "# Cramer GAN"
   ]
  },
  {
   "cell_type": "code",
   "execution_count": null,
   "metadata": {
    "collapsed": false
   },
   "outputs": [],
   "source": [
    "params = {\n",
    "    'z_dim': 64,\n",
    "    'data': data_params,\n",
    "    'generator': generator_params,\n",
    "    'discriminator': {\n",
    "        'n_layers': 4,\n",
    "        'n_hidden': 256,\n",
    "        'activation_fn': tf.nn.relu,\n",
    "        'output_dim': 256,\n",
    "    },\n",
    "    'lambda': 0.1,\n",
    "    'optimization': {\n",
    "        'algorithm': 'alternating',\n",
    "        'discriminator_steps': 5,\n",
    "    },\n",
    "}\n",
    "\n",
    "tf.reset_default_graph()\n",
    "gan = CramerGAN(params)\n",
    "gan.train(iterations=iterations, batch_size=batch_size, save_step=save_step, dirname='alternating-cramer-gan')"
   ]
  },
  {
   "cell_type": "markdown",
   "metadata": {},
   "source": [
    "# Consensus optimization"
   ]
  },
  {
   "cell_type": "markdown",
   "metadata": {},
   "source": [
    "# GAN"
   ]
  },
  {
   "cell_type": "code",
   "execution_count": null,
   "metadata": {
    "collapsed": false
   },
   "outputs": [],
   "source": [
    "params = {\n",
    "    'z_dim': 64,\n",
    "    'data': data_params,\n",
    "    'generator': generator_params,\n",
    "    'discriminator': discriminator_params,\n",
    "    'modified_objective': False,\n",
    "    'optimization': {\n",
    "        'algorithm': 'consensus',\n",
    "        'gamma': 10,\n",
    "    },\n",
    "}\n",
    "\n",
    "tf.reset_default_graph()\n",
    "gan = GAN(params)\n",
    "gan.train(iterations=iterations, batch_size=batch_size, save_step=save_step, dirname='consensus-gan')"
   ]
  },
  {
   "cell_type": "code",
   "execution_count": null,
   "metadata": {
    "collapsed": true
   },
   "outputs": [],
   "source": [
    "params = {\n",
    "    'z_dim': 64,\n",
    "    'data': data_params,\n",
    "    'generator': generator_params,\n",
    "    'discriminator': discriminator_params,\n",
    "    'modified_objective': True,\n",
    "    'optimization': {\n",
    "        'algorithm': 'consensus',\n",
    "        'gamma': 10,\n",
    "    },\n",
    "}\n",
    "\n",
    "tf.reset_default_graph()\n",
    "gan = GAN(params)\n",
    "gan.train(iterations=iterations, batch_size=batch_size, save_step=save_step, dirname='consensus-gan-2')"
   ]
  },
  {
   "cell_type": "markdown",
   "metadata": {},
   "source": [
    "# WGAN"
   ]
  },
  {
   "cell_type": "code",
   "execution_count": null,
   "metadata": {
    "collapsed": false
   },
   "outputs": [],
   "source": [
    "params = {\n",
    "    'z_dim': 64,\n",
    "    'data': data_params,\n",
    "    'generator': generator_params,\n",
    "    'discriminator': discriminator_params,\n",
    "    'gradient_penalty': False,\n",
    "    'optimization': {\n",
    "        'algorithm': 'consensus',\n",
    "        'gamma': 10,\n",
    "    },\n",
    "}\n",
    "\n",
    "tf.reset_default_graph()\n",
    "wgan = WGAN(params)\n",
    "wgan.train(iterations=iterations, batch_size=batch_size, save_step=save_step, dirname='consensus-wgan')"
   ]
  }
 ],
 "metadata": {
  "kernelspec": {
   "display_name": "Python 3",
   "language": "python",
   "name": "python3"
  },
  "language_info": {
   "codemirror_mode": {
    "name": "ipython",
    "version": 3
   },
   "file_extension": ".py",
   "mimetype": "text/x-python",
   "name": "python",
   "nbconvert_exporter": "python",
   "pygments_lexer": "ipython3",
   "version": "3.6.0"
  }
 },
 "nbformat": 4,
 "nbformat_minor": 2
}
